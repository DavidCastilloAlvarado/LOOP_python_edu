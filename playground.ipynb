{
 "cells": [
  {
   "cell_type": "code",
   "execution_count": 2,
   "metadata": {},
   "outputs": [
    {
     "name": "stdin",
     "output_type": "stream",
     "text": [
      "Primer Número:  100\n",
      "segundo Número:  22\n",
      "segundo Número:  21\n",
      "segundo Número:  33\n",
      "segundo Número:  99\n",
      "segundo Número:  100\n"
     ]
    },
    {
     "name": "stdout",
     "output_type": "stream",
     "text": [
      "Los números que ha escrito son 100 y 100\n"
     ]
    }
   ],
   "source": [
    "# Escriba un código donde se solicite dos valores, donde le segundo valor no debe ser menos al primero\n",
    "primero = int(input(\"Primer Número: \"))\n",
    "segundo = primero -1\n",
    "while segundo < primero:\n",
    "    segundo = int(input(\"segundo Número: \"))\n",
    "print(\"Los números que ha escrito son {} y {}\".format(primero, segundo))"
   ]
  },
  {
   "cell_type": "code",
   "execution_count": 56,
   "metadata": {},
   "outputs": [
    {
     "name": "stdout",
     "output_type": "stream",
     "text": [
      "26\n"
     ]
    }
   ],
   "source": [
    "# suma = 2+5+8+11\n",
    "suma = 0\n",
    "i = 1\n",
    "valor = 2\n",
    "while i <= 4:\n",
    "    suma = suma + valor\n",
    "    valor = valor + 3\n",
    "    i = i+1\n",
    "print(suma)"
   ]
  },
  {
   "cell_type": "code",
   "execution_count": 1,
   "metadata": {},
   "outputs": [
    {
     "name": "stdout",
     "output_type": "stream",
     "text": [
      "0\n",
      "1\n",
      "2\n",
      "3\n"
     ]
    }
   ],
   "source": [
    "x=0\n",
    "while(x <4):\n",
    "    print(x)\n",
    "    x = x+1"
   ]
  },
  {
   "cell_type": "code",
   "execution_count": 1,
   "metadata": {},
   "outputs": [
    {
     "name": "stdout",
     "output_type": "stream",
     "text": [
      "2\n",
      "3\n",
      "4\n",
      "5\n",
      "6\n"
     ]
    }
   ],
   "source": [
    "for x in range(2,7):\n",
    "    print(x)"
   ]
  },
  {
   "cell_type": "code",
   "execution_count": 4,
   "metadata": {},
   "outputs": [
    {
     "name": "stdout",
     "output_type": "stream",
     "text": [
      "Jan\n",
      "Feb\n",
      "Mar\n",
      "April\n",
      "May\n",
      "June\n"
     ]
    }
   ],
   "source": [
    "Months = [\"Jan\",\"Feb\",\"Mar\",\"April\",\"May\",\"June\"]\n",
    "for m in Months:\n",
    "    print(m)"
   ]
  },
  {
   "cell_type": "code",
   "execution_count": 6,
   "metadata": {},
   "outputs": [
    {
     "name": "stdout",
     "output_type": "stream",
     "text": [
      "10\n",
      "11\n",
      "12\n",
      "13\n",
      "14\n"
     ]
    }
   ],
   "source": [
    "for x in range (10,20):\n",
    "    if (x == 15): break\n",
    "    print(x)"
   ]
  },
  {
   "cell_type": "code",
   "execution_count": 7,
   "metadata": {},
   "outputs": [
    {
     "name": "stdout",
     "output_type": "stream",
     "text": [
      "11\n",
      "12\n",
      "13\n",
      "14\n",
      "16\n",
      "17\n",
      "18\n",
      "19\n"
     ]
    }
   ],
   "source": [
    "for x in range (10,20):\n",
    "    if (x % 5 == 0) : continue\n",
    "    print(x)"
   ]
  },
  {
   "cell_type": "code",
   "execution_count": 8,
   "metadata": {},
   "outputs": [
    {
     "name": "stdout",
     "output_type": "stream",
     "text": [
      "0 Jan\n",
      "1 Feb\n",
      "2 Mar\n",
      "3 April\n",
      "4 May\n",
      "5 June\n"
     ]
    }
   ],
   "source": [
    "Months = [\"Jan\",\"Feb\",\"Mar\",\"April\",\"May\",\"June\"]\n",
    "for i, m in enumerate (Months):\n",
    "    print(i,m)"
   ]
  },
  {
   "cell_type": "code",
   "execution_count": 10,
   "metadata": {},
   "outputs": [
    {
     "name": "stdin",
     "output_type": "stream",
     "text": [
      "Ingrese primer número :  1\n",
      "Ingrese segundo número :  10\n"
     ]
    },
    {
     "name": "stdout",
     "output_type": "stream",
     "text": [
      "2  es un número primo\n",
      "3  es un número primo\n",
      "5  es un número primo\n",
      "7  es un número primo\n"
     ]
    }
   ],
   "source": [
    "n1 = int(input(\"Ingrese primer número : \"))\n",
    "n2 = int(input(\"Ingrese segundo número : \"))\n",
    "\n",
    "while (n1<=0 or n2<=0) or n2 <=n1:\n",
    "    print(\"ERROR ERROR\")\n",
    "    n1 = int(input(\"Ingrese primer número : \"))\n",
    "    n2 = int(input(\"Ingrese segundo número : \"))\n",
    "    \n",
    "for numero in range(n1, n2+1):\n",
    "    cantidad_divisores = 0\n",
    "    for divisor in range(1,numero+1 ):\n",
    "        if numero%divisor == 0 :\n",
    "            cantidad_divisores += 1\n",
    "    if cantidad_divisores == 2:\n",
    "        print(numero, \" es un número primo\")\n"
   ]
  }
 ],
 "metadata": {
  "kernelspec": {
   "display_name": "Python 3.7.4 64-bit",
   "language": "python",
   "name": "python37464bit6ea9d59176c94d2aba530003a360c2f8"
  },
  "language_info": {
   "codemirror_mode": {
    "name": "ipython",
    "version": 3
   },
   "file_extension": ".py",
   "mimetype": "text/x-python",
   "name": "python",
   "nbconvert_exporter": "python",
   "pygments_lexer": "ipython3",
   "version": "3.7.4"
  }
 },
 "nbformat": 4,
 "nbformat_minor": 4
}
